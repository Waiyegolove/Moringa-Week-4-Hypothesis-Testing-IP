{
  "nbformat": 4,
  "nbformat_minor": 0,
  "metadata": {
    "colab": {
      "name": "Mercy_Mburu_Week4_IP",
      "provenance": [],
      "collapsed_sections": [
        "kLkivweO1Iii",
        "0CRs-dFC1ohx",
        "ck0zE_a43uV-",
        "NCrhoYJz1dUY",
        "jRKV0pa04BQH",
        "8POt4f4D2LcH",
        "xumXllAg5A6N",
        "kKZFF5-Q6d5c",
        "32s_izI76icw",
        "DHNDapES6-4D",
        "NqN2REVg6xM7",
        "uXIKUeun7Tz6"
      ]
    },
    "kernelspec": {
      "display_name": "Python 3",
      "language": "python",
      "name": "python3"
    },
    "language_info": {
      "codemirror_mode": {
        "name": "ipython",
        "version": 3
      },
      "file_extension": ".py",
      "mimetype": "text/x-python",
      "name": "python",
      "nbconvert_exporter": "python",
      "pygments_lexer": "ipython3",
      "version": "3.7.6"
    }
  },
  "cells": [
    {
      "cell_type": "markdown",
      "metadata": {
        "id": "FtNfyN9C1FSE"
      },
      "source": [
        "Autolib is an electric car sharing company managed by the Bolloré group enterprise. It owns 3,000 cars (BlueCars, Utilib and Utilib_14), 860 stations where users can subscribe, pick up or drop off the cars and 4,400 parking spaces. \n",
        "\n",
        "Autolib wishes to expand to the European region and beyond and as part of their expansion strategy, the operations team seeks to verify that the measures they have put in place to ensure that there is even distribution of vehicles, stations and parking spaces across the city of Paris are effective, before they start going beyond Paris.\n",
        "\n",
        "The Data Science team will conduct research and provide recommendations on the strategy to distribute their resources by responding to the following claims:\n",
        "1.\tOn a given weekday, the average number of vehicles (BlueCars, Utilib and Utilib_14) taken is more than the average number of vehicles being returned.\n",
        "2.\tOn a given day, the number of BlueCars taken is more than the total combined number of Utilib and Utilib_14 cars.\n",
        "3.\tThe number of vehicles taken in postal code 75015 is equal to the number of vehicles taken in postal code 75017.\n"
      ]
    },
    {
      "cell_type": "markdown",
      "metadata": {
        "id": "kLkivweO1Iii"
      },
      "source": [
        "## 1.0 Importing Libraries"
      ]
    },
    {
      "cell_type": "code",
      "metadata": {
        "id": "7rB0TURq1Mfo"
      },
      "source": [
        "# Importing Pandas\n",
        "# \n",
        "import pandas as pd\n",
        "\n",
        "# Importing Numpy\n",
        "#\n",
        "import numpy as np\n",
        "\n",
        "# Importing Seaborn\n",
        "#\n",
        "import seaborn as sns\n",
        "\n",
        "# Importing Matplotlib\n",
        "\n",
        "import matplotlib.pyplot as plt\n",
        "\n",
        "# importing scipy\n",
        "from scipy import stats"
      ],
      "execution_count": 1,
      "outputs": []
    },
    {
      "cell_type": "markdown",
      "metadata": {
        "id": "h7G8sRjt_jZ6"
      },
      "source": [
        "## 2. Reading the Data"
      ]
    },
    {
      "cell_type": "code",
      "metadata": {
        "id": "9xA-h4_T_jZ6"
      },
      "source": [
        "autolib_df = pd.read_csv(\"autolib_daily_events_postal_code.csv\")"
      ],
      "execution_count": 2,
      "outputs": []
    },
    {
      "cell_type": "markdown",
      "metadata": {
        "id": "_LzkYwYh_jZ6"
      },
      "source": [
        "## 3. Checking and cleaning the Data"
      ]
    },
    {
      "cell_type": "markdown",
      "metadata": {
        "id": "ZqVjEHn3_jZ7"
      },
      "source": [
        "### 3.1 Checking the data"
      ]
    },
    {
      "cell_type": "code",
      "metadata": {
        "id": "GN2kJrHN_jZ7",
        "colab": {
          "base_uri": "https://localhost:8080/"
        },
        "outputId": "43ff9eb8-ac5e-48a8-9250-7f1578d3a25b"
      },
      "source": [
        "# Number of records\n",
        "\n",
        "print('This dataset has ' + str(autolib_df.shape[0]) + ' rows, and ' + str(autolib_df.shape[1]) + ' columns')"
      ],
      "execution_count": 3,
      "outputs": [
        {
          "output_type": "stream",
          "text": [
            "This dataset has 16085 rows, and 13 columns\n"
          ],
          "name": "stdout"
        }
      ]
    },
    {
      "cell_type": "code",
      "metadata": {
        "id": "oqxk2cfI_jZ8",
        "colab": {
          "base_uri": "https://localhost:8080/",
          "height": 234
        },
        "outputId": "c808e4b1-ed79-4e70-84e0-43aea60c90c6"
      },
      "source": [
        "# First 5 records\n",
        "autolib_df.head()"
      ],
      "execution_count": 4,
      "outputs": [
        {
          "output_type": "execute_result",
          "data": {
            "text/html": [
              "<div>\n",
              "<style scoped>\n",
              "    .dataframe tbody tr th:only-of-type {\n",
              "        vertical-align: middle;\n",
              "    }\n",
              "\n",
              "    .dataframe tbody tr th {\n",
              "        vertical-align: top;\n",
              "    }\n",
              "\n",
              "    .dataframe thead th {\n",
              "        text-align: right;\n",
              "    }\n",
              "</style>\n",
              "<table border=\"1\" class=\"dataframe\">\n",
              "  <thead>\n",
              "    <tr style=\"text-align: right;\">\n",
              "      <th></th>\n",
              "      <th>Postal code</th>\n",
              "      <th>date</th>\n",
              "      <th>n_daily_data_points</th>\n",
              "      <th>dayOfWeek</th>\n",
              "      <th>day_type</th>\n",
              "      <th>BlueCars_taken_sum</th>\n",
              "      <th>BlueCars_returned_sum</th>\n",
              "      <th>Utilib_taken_sum</th>\n",
              "      <th>Utilib_returned_sum</th>\n",
              "      <th>Utilib_14_taken_sum</th>\n",
              "      <th>Utilib_14_returned_sum</th>\n",
              "      <th>Slots_freed_sum</th>\n",
              "      <th>Slots_taken_sum</th>\n",
              "    </tr>\n",
              "  </thead>\n",
              "  <tbody>\n",
              "    <tr>\n",
              "      <th>0</th>\n",
              "      <td>75001</td>\n",
              "      <td>1/1/2018</td>\n",
              "      <td>1440</td>\n",
              "      <td>0</td>\n",
              "      <td>weekday</td>\n",
              "      <td>110</td>\n",
              "      <td>103</td>\n",
              "      <td>3</td>\n",
              "      <td>2</td>\n",
              "      <td>10</td>\n",
              "      <td>9</td>\n",
              "      <td>22</td>\n",
              "      <td>20</td>\n",
              "    </tr>\n",
              "    <tr>\n",
              "      <th>1</th>\n",
              "      <td>75001</td>\n",
              "      <td>1/2/2018</td>\n",
              "      <td>1438</td>\n",
              "      <td>1</td>\n",
              "      <td>weekday</td>\n",
              "      <td>98</td>\n",
              "      <td>94</td>\n",
              "      <td>1</td>\n",
              "      <td>1</td>\n",
              "      <td>8</td>\n",
              "      <td>8</td>\n",
              "      <td>23</td>\n",
              "      <td>22</td>\n",
              "    </tr>\n",
              "    <tr>\n",
              "      <th>2</th>\n",
              "      <td>75001</td>\n",
              "      <td>1/3/2018</td>\n",
              "      <td>1439</td>\n",
              "      <td>2</td>\n",
              "      <td>weekday</td>\n",
              "      <td>138</td>\n",
              "      <td>139</td>\n",
              "      <td>0</td>\n",
              "      <td>0</td>\n",
              "      <td>2</td>\n",
              "      <td>2</td>\n",
              "      <td>27</td>\n",
              "      <td>27</td>\n",
              "    </tr>\n",
              "    <tr>\n",
              "      <th>3</th>\n",
              "      <td>75001</td>\n",
              "      <td>1/4/2018</td>\n",
              "      <td>1320</td>\n",
              "      <td>3</td>\n",
              "      <td>weekday</td>\n",
              "      <td>104</td>\n",
              "      <td>104</td>\n",
              "      <td>2</td>\n",
              "      <td>2</td>\n",
              "      <td>9</td>\n",
              "      <td>8</td>\n",
              "      <td>25</td>\n",
              "      <td>21</td>\n",
              "    </tr>\n",
              "    <tr>\n",
              "      <th>4</th>\n",
              "      <td>75001</td>\n",
              "      <td>1/5/2018</td>\n",
              "      <td>1440</td>\n",
              "      <td>4</td>\n",
              "      <td>weekday</td>\n",
              "      <td>114</td>\n",
              "      <td>117</td>\n",
              "      <td>3</td>\n",
              "      <td>3</td>\n",
              "      <td>6</td>\n",
              "      <td>6</td>\n",
              "      <td>18</td>\n",
              "      <td>20</td>\n",
              "    </tr>\n",
              "  </tbody>\n",
              "</table>\n",
              "</div>"
            ],
            "text/plain": [
              "   Postal code      date  ...  Slots_freed_sum  Slots_taken_sum\n",
              "0        75001  1/1/2018  ...               22               20\n",
              "1        75001  1/2/2018  ...               23               22\n",
              "2        75001  1/3/2018  ...               27               27\n",
              "3        75001  1/4/2018  ...               25               21\n",
              "4        75001  1/5/2018  ...               18               20\n",
              "\n",
              "[5 rows x 13 columns]"
            ]
          },
          "metadata": {
            "tags": []
          },
          "execution_count": 4
        }
      ]
    },
    {
      "cell_type": "code",
      "metadata": {
        "id": "UArmQ7bQ_jZ9",
        "colab": {
          "base_uri": "https://localhost:8080/",
          "height": 234
        },
        "outputId": "a3a1f4d3-3f7c-41b4-ec44-13486572a524"
      },
      "source": [
        "# Last 5 records\n",
        "autolib_df.tail()"
      ],
      "execution_count": 5,
      "outputs": [
        {
          "output_type": "execute_result",
          "data": {
            "text/html": [
              "<div>\n",
              "<style scoped>\n",
              "    .dataframe tbody tr th:only-of-type {\n",
              "        vertical-align: middle;\n",
              "    }\n",
              "\n",
              "    .dataframe tbody tr th {\n",
              "        vertical-align: top;\n",
              "    }\n",
              "\n",
              "    .dataframe thead th {\n",
              "        text-align: right;\n",
              "    }\n",
              "</style>\n",
              "<table border=\"1\" class=\"dataframe\">\n",
              "  <thead>\n",
              "    <tr style=\"text-align: right;\">\n",
              "      <th></th>\n",
              "      <th>Postal code</th>\n",
              "      <th>date</th>\n",
              "      <th>n_daily_data_points</th>\n",
              "      <th>dayOfWeek</th>\n",
              "      <th>day_type</th>\n",
              "      <th>BlueCars_taken_sum</th>\n",
              "      <th>BlueCars_returned_sum</th>\n",
              "      <th>Utilib_taken_sum</th>\n",
              "      <th>Utilib_returned_sum</th>\n",
              "      <th>Utilib_14_taken_sum</th>\n",
              "      <th>Utilib_14_returned_sum</th>\n",
              "      <th>Slots_freed_sum</th>\n",
              "      <th>Slots_taken_sum</th>\n",
              "    </tr>\n",
              "  </thead>\n",
              "  <tbody>\n",
              "    <tr>\n",
              "      <th>16080</th>\n",
              "      <td>95880</td>\n",
              "      <td>6/15/2018</td>\n",
              "      <td>1440</td>\n",
              "      <td>4</td>\n",
              "      <td>weekday</td>\n",
              "      <td>15</td>\n",
              "      <td>10</td>\n",
              "      <td>0</td>\n",
              "      <td>0</td>\n",
              "      <td>2</td>\n",
              "      <td>3</td>\n",
              "      <td>0</td>\n",
              "      <td>0</td>\n",
              "    </tr>\n",
              "    <tr>\n",
              "      <th>16081</th>\n",
              "      <td>95880</td>\n",
              "      <td>6/16/2018</td>\n",
              "      <td>1440</td>\n",
              "      <td>5</td>\n",
              "      <td>weekend</td>\n",
              "      <td>19</td>\n",
              "      <td>19</td>\n",
              "      <td>0</td>\n",
              "      <td>0</td>\n",
              "      <td>2</td>\n",
              "      <td>1</td>\n",
              "      <td>0</td>\n",
              "      <td>0</td>\n",
              "    </tr>\n",
              "    <tr>\n",
              "      <th>16082</th>\n",
              "      <td>95880</td>\n",
              "      <td>6/17/2018</td>\n",
              "      <td>1440</td>\n",
              "      <td>6</td>\n",
              "      <td>weekend</td>\n",
              "      <td>33</td>\n",
              "      <td>35</td>\n",
              "      <td>1</td>\n",
              "      <td>1</td>\n",
              "      <td>0</td>\n",
              "      <td>0</td>\n",
              "      <td>0</td>\n",
              "      <td>0</td>\n",
              "    </tr>\n",
              "    <tr>\n",
              "      <th>16083</th>\n",
              "      <td>95880</td>\n",
              "      <td>6/18/2018</td>\n",
              "      <td>1440</td>\n",
              "      <td>0</td>\n",
              "      <td>weekday</td>\n",
              "      <td>11</td>\n",
              "      <td>14</td>\n",
              "      <td>3</td>\n",
              "      <td>5</td>\n",
              "      <td>2</td>\n",
              "      <td>2</td>\n",
              "      <td>0</td>\n",
              "      <td>0</td>\n",
              "    </tr>\n",
              "    <tr>\n",
              "      <th>16084</th>\n",
              "      <td>95880</td>\n",
              "      <td>6/19/2018</td>\n",
              "      <td>1370</td>\n",
              "      <td>1</td>\n",
              "      <td>weekday</td>\n",
              "      <td>2</td>\n",
              "      <td>2</td>\n",
              "      <td>2</td>\n",
              "      <td>1</td>\n",
              "      <td>0</td>\n",
              "      <td>0</td>\n",
              "      <td>0</td>\n",
              "      <td>0</td>\n",
              "    </tr>\n",
              "  </tbody>\n",
              "</table>\n",
              "</div>"
            ],
            "text/plain": [
              "       Postal code       date  ...  Slots_freed_sum  Slots_taken_sum\n",
              "16080        95880  6/15/2018  ...                0                0\n",
              "16081        95880  6/16/2018  ...                0                0\n",
              "16082        95880  6/17/2018  ...                0                0\n",
              "16083        95880  6/18/2018  ...                0                0\n",
              "16084        95880  6/19/2018  ...                0                0\n",
              "\n",
              "[5 rows x 13 columns]"
            ]
          },
          "metadata": {
            "tags": []
          },
          "execution_count": 5
        }
      ]
    },
    {
      "cell_type": "code",
      "metadata": {
        "id": "aeR0kL6K_jZ9",
        "colab": {
          "base_uri": "https://localhost:8080/"
        },
        "outputId": "01f30278-5b2a-4893-e277-71e0765b00d8"
      },
      "source": [
        "# Checking whether each column has an appropriate datatype\n",
        "\n",
        "autolib_df.info()"
      ],
      "execution_count": 6,
      "outputs": [
        {
          "output_type": "stream",
          "text": [
            "<class 'pandas.core.frame.DataFrame'>\n",
            "RangeIndex: 16085 entries, 0 to 16084\n",
            "Data columns (total 13 columns):\n",
            " #   Column                  Non-Null Count  Dtype \n",
            "---  ------                  --------------  ----- \n",
            " 0   Postal code             16085 non-null  int64 \n",
            " 1   date                    16085 non-null  object\n",
            " 2   n_daily_data_points     16085 non-null  int64 \n",
            " 3   dayOfWeek               16085 non-null  int64 \n",
            " 4   day_type                16085 non-null  object\n",
            " 5   BlueCars_taken_sum      16085 non-null  int64 \n",
            " 6   BlueCars_returned_sum   16085 non-null  int64 \n",
            " 7   Utilib_taken_sum        16085 non-null  int64 \n",
            " 8   Utilib_returned_sum     16085 non-null  int64 \n",
            " 9   Utilib_14_taken_sum     16085 non-null  int64 \n",
            " 10  Utilib_14_returned_sum  16085 non-null  int64 \n",
            " 11  Slots_freed_sum         16085 non-null  int64 \n",
            " 12  Slots_taken_sum         16085 non-null  int64 \n",
            "dtypes: int64(11), object(2)\n",
            "memory usage: 1.6+ MB\n"
          ],
          "name": "stdout"
        }
      ]
    },
    {
      "cell_type": "code",
      "metadata": {
        "id": "3XlCBgOm_jZ-",
        "colab": {
          "base_uri": "https://localhost:8080/"
        },
        "outputId": "d7d714da-3ab9-4d8d-ad5f-6a6ccb48786a"
      },
      "source": [
        "#change the data type of date to 'date'\n",
        "\n",
        "autolib_df['date']\n",
        "autolib_df.info()"
      ],
      "execution_count": 7,
      "outputs": [
        {
          "output_type": "stream",
          "text": [
            "<class 'pandas.core.frame.DataFrame'>\n",
            "RangeIndex: 16085 entries, 0 to 16084\n",
            "Data columns (total 13 columns):\n",
            " #   Column                  Non-Null Count  Dtype \n",
            "---  ------                  --------------  ----- \n",
            " 0   Postal code             16085 non-null  int64 \n",
            " 1   date                    16085 non-null  object\n",
            " 2   n_daily_data_points     16085 non-null  int64 \n",
            " 3   dayOfWeek               16085 non-null  int64 \n",
            " 4   day_type                16085 non-null  object\n",
            " 5   BlueCars_taken_sum      16085 non-null  int64 \n",
            " 6   BlueCars_returned_sum   16085 non-null  int64 \n",
            " 7   Utilib_taken_sum        16085 non-null  int64 \n",
            " 8   Utilib_returned_sum     16085 non-null  int64 \n",
            " 9   Utilib_14_taken_sum     16085 non-null  int64 \n",
            " 10  Utilib_14_returned_sum  16085 non-null  int64 \n",
            " 11  Slots_freed_sum         16085 non-null  int64 \n",
            " 12  Slots_taken_sum         16085 non-null  int64 \n",
            "dtypes: int64(11), object(2)\n",
            "memory usage: 1.6+ MB\n"
          ],
          "name": "stdout"
        }
      ]
    },
    {
      "cell_type": "code",
      "metadata": {
        "id": "ieODHzg0_jZ-",
        "colab": {
          "base_uri": "https://localhost:8080/",
          "height": 307
        },
        "outputId": "2185e717-0da0-4cf0-9f72-72fc3e8163f3"
      },
      "source": [
        "# View the descriptive statistics of the autolib dataset\n",
        "autolib_df[['BlueCars_taken_sum','BlueCars_returned_sum','Utilib_taken_sum','Utilib_returned_sum','Utilib_14_taken_sum','Utilib_14_returned_sum','Slots_freed_sum','Slots_taken_sum']].describe()"
      ],
      "execution_count": 8,
      "outputs": [
        {
          "output_type": "execute_result",
          "data": {
            "text/html": [
              "<div>\n",
              "<style scoped>\n",
              "    .dataframe tbody tr th:only-of-type {\n",
              "        vertical-align: middle;\n",
              "    }\n",
              "\n",
              "    .dataframe tbody tr th {\n",
              "        vertical-align: top;\n",
              "    }\n",
              "\n",
              "    .dataframe thead th {\n",
              "        text-align: right;\n",
              "    }\n",
              "</style>\n",
              "<table border=\"1\" class=\"dataframe\">\n",
              "  <thead>\n",
              "    <tr style=\"text-align: right;\">\n",
              "      <th></th>\n",
              "      <th>BlueCars_taken_sum</th>\n",
              "      <th>BlueCars_returned_sum</th>\n",
              "      <th>Utilib_taken_sum</th>\n",
              "      <th>Utilib_returned_sum</th>\n",
              "      <th>Utilib_14_taken_sum</th>\n",
              "      <th>Utilib_14_returned_sum</th>\n",
              "      <th>Slots_freed_sum</th>\n",
              "      <th>Slots_taken_sum</th>\n",
              "    </tr>\n",
              "  </thead>\n",
              "  <tbody>\n",
              "    <tr>\n",
              "      <th>count</th>\n",
              "      <td>16085.000000</td>\n",
              "      <td>16085.000000</td>\n",
              "      <td>16085.000000</td>\n",
              "      <td>16085.000000</td>\n",
              "      <td>16085.000000</td>\n",
              "      <td>16085.000000</td>\n",
              "      <td>16085.000000</td>\n",
              "      <td>16085.000000</td>\n",
              "    </tr>\n",
              "    <tr>\n",
              "      <th>mean</th>\n",
              "      <td>125.926951</td>\n",
              "      <td>125.912714</td>\n",
              "      <td>3.698290</td>\n",
              "      <td>3.699099</td>\n",
              "      <td>8.600560</td>\n",
              "      <td>8.599192</td>\n",
              "      <td>22.629033</td>\n",
              "      <td>22.629282</td>\n",
              "    </tr>\n",
              "    <tr>\n",
              "      <th>std</th>\n",
              "      <td>185.426579</td>\n",
              "      <td>185.501535</td>\n",
              "      <td>5.815058</td>\n",
              "      <td>5.824634</td>\n",
              "      <td>12.870098</td>\n",
              "      <td>12.868993</td>\n",
              "      <td>52.120263</td>\n",
              "      <td>52.146030</td>\n",
              "    </tr>\n",
              "    <tr>\n",
              "      <th>min</th>\n",
              "      <td>0.000000</td>\n",
              "      <td>0.000000</td>\n",
              "      <td>0.000000</td>\n",
              "      <td>0.000000</td>\n",
              "      <td>0.000000</td>\n",
              "      <td>0.000000</td>\n",
              "      <td>0.000000</td>\n",
              "      <td>0.000000</td>\n",
              "    </tr>\n",
              "    <tr>\n",
              "      <th>25%</th>\n",
              "      <td>20.000000</td>\n",
              "      <td>20.000000</td>\n",
              "      <td>0.000000</td>\n",
              "      <td>0.000000</td>\n",
              "      <td>1.000000</td>\n",
              "      <td>1.000000</td>\n",
              "      <td>0.000000</td>\n",
              "      <td>0.000000</td>\n",
              "    </tr>\n",
              "    <tr>\n",
              "      <th>50%</th>\n",
              "      <td>46.000000</td>\n",
              "      <td>46.000000</td>\n",
              "      <td>1.000000</td>\n",
              "      <td>1.000000</td>\n",
              "      <td>3.000000</td>\n",
              "      <td>3.000000</td>\n",
              "      <td>0.000000</td>\n",
              "      <td>0.000000</td>\n",
              "    </tr>\n",
              "    <tr>\n",
              "      <th>75%</th>\n",
              "      <td>135.000000</td>\n",
              "      <td>135.000000</td>\n",
              "      <td>4.000000</td>\n",
              "      <td>4.000000</td>\n",
              "      <td>10.000000</td>\n",
              "      <td>10.000000</td>\n",
              "      <td>5.000000</td>\n",
              "      <td>5.000000</td>\n",
              "    </tr>\n",
              "    <tr>\n",
              "      <th>max</th>\n",
              "      <td>1352.000000</td>\n",
              "      <td>1332.000000</td>\n",
              "      <td>54.000000</td>\n",
              "      <td>58.000000</td>\n",
              "      <td>100.000000</td>\n",
              "      <td>101.000000</td>\n",
              "      <td>360.000000</td>\n",
              "      <td>359.000000</td>\n",
              "    </tr>\n",
              "  </tbody>\n",
              "</table>\n",
              "</div>"
            ],
            "text/plain": [
              "       BlueCars_taken_sum  ...  Slots_taken_sum\n",
              "count        16085.000000  ...     16085.000000\n",
              "mean           125.926951  ...        22.629282\n",
              "std            185.426579  ...        52.146030\n",
              "min              0.000000  ...         0.000000\n",
              "25%             20.000000  ...         0.000000\n",
              "50%             46.000000  ...         0.000000\n",
              "75%            135.000000  ...         5.000000\n",
              "max           1352.000000  ...       359.000000\n",
              "\n",
              "[8 rows x 8 columns]"
            ]
          },
          "metadata": {
            "tags": []
          },
          "execution_count": 8
        }
      ]
    },
    {
      "cell_type": "markdown",
      "metadata": {
        "id": "TF3NSAXv_jZ_"
      },
      "source": [
        "### 3.2 Cleaning the data"
      ]
    },
    {
      "cell_type": "code",
      "metadata": {
        "id": "HsANm39Y_jZ_",
        "colab": {
          "base_uri": "https://localhost:8080/"
        },
        "outputId": "5e7279a3-8984-442c-c0cb-7cf41c258254"
      },
      "source": [
        "# Identifying nulls\n",
        "autolib_df.isnull().sum()"
      ],
      "execution_count": 9,
      "outputs": [
        {
          "output_type": "execute_result",
          "data": {
            "text/plain": [
              "Postal code               0\n",
              "date                      0\n",
              "n_daily_data_points       0\n",
              "dayOfWeek                 0\n",
              "day_type                  0\n",
              "BlueCars_taken_sum        0\n",
              "BlueCars_returned_sum     0\n",
              "Utilib_taken_sum          0\n",
              "Utilib_returned_sum       0\n",
              "Utilib_14_taken_sum       0\n",
              "Utilib_14_returned_sum    0\n",
              "Slots_freed_sum           0\n",
              "Slots_taken_sum           0\n",
              "dtype: int64"
            ]
          },
          "metadata": {
            "tags": []
          },
          "execution_count": 9
        }
      ]
    },
    {
      "cell_type": "code",
      "metadata": {
        "id": "_4THzdJB_jZ_",
        "colab": {
          "base_uri": "https://localhost:8080/"
        },
        "outputId": "ec9513ac-ecca-417a-ea56-376b99ca100a"
      },
      "source": [
        "# Dropping column 'n_daily_data_points' since it will not be required in this analysis\n",
        "\n",
        "autolib_df.drop('n_daily_data_points', axis=1,inplace=True)\n",
        "autolib_df.info()"
      ],
      "execution_count": 10,
      "outputs": [
        {
          "output_type": "stream",
          "text": [
            "<class 'pandas.core.frame.DataFrame'>\n",
            "RangeIndex: 16085 entries, 0 to 16084\n",
            "Data columns (total 12 columns):\n",
            " #   Column                  Non-Null Count  Dtype \n",
            "---  ------                  --------------  ----- \n",
            " 0   Postal code             16085 non-null  int64 \n",
            " 1   date                    16085 non-null  object\n",
            " 2   dayOfWeek               16085 non-null  int64 \n",
            " 3   day_type                16085 non-null  object\n",
            " 4   BlueCars_taken_sum      16085 non-null  int64 \n",
            " 5   BlueCars_returned_sum   16085 non-null  int64 \n",
            " 6   Utilib_taken_sum        16085 non-null  int64 \n",
            " 7   Utilib_returned_sum     16085 non-null  int64 \n",
            " 8   Utilib_14_taken_sum     16085 non-null  int64 \n",
            " 9   Utilib_14_returned_sum  16085 non-null  int64 \n",
            " 10  Slots_freed_sum         16085 non-null  int64 \n",
            " 11  Slots_taken_sum         16085 non-null  int64 \n",
            "dtypes: int64(10), object(2)\n",
            "memory usage: 1.5+ MB\n"
          ],
          "name": "stdout"
        }
      ]
    },
    {
      "cell_type": "markdown",
      "metadata": {
        "id": "F0URYbr6_jaA"
      },
      "source": [
        "## 4. Outlier Analysis and Anomaly detection"
      ]
    },
    {
      "cell_type": "code",
      "metadata": {
        "id": "CKmKNyon_jaA",
        "colab": {
          "base_uri": "https://localhost:8080/",
          "height": 284
        },
        "outputId": "ba5e5992-34b2-4980-a990-0d73a6c05251"
      },
      "source": [
        "# Outlier detection\n",
        "# BlueCars_taken and BlueCars_returned\n",
        "\n",
        "sns.boxplot(data=autolib_df[['BlueCars_taken_sum','BlueCars_returned_sum']])"
      ],
      "execution_count": 11,
      "outputs": [
        {
          "output_type": "execute_result",
          "data": {
            "text/plain": [
              "<matplotlib.axes._subplots.AxesSubplot at 0x7fa9fc319690>"
            ]
          },
          "metadata": {
            "tags": []
          },
          "execution_count": 11
        },
        {
          "output_type": "display_data",
          "data": {
            "image/png": "[encoded data removed]",
            "text/plain": [
              "<Figure size 432x288 with 1 Axes>"
            ]
          },
          "metadata": {
            "tags": [],
            "needs_background": "light"
          }
        }
      ]
    },
    {
      "cell_type": "markdown",
      "metadata": {
        "id": "Czvv9hnX_jaA"
      },
      "source": [
        "The blue cars dataset is skewed towards the left with a large number of entries being below 200."
      ]
    },
    {
      "cell_type": "code",
      "metadata": {
        "id": "WPCUBy8x_jaB",
        "colab": {
          "base_uri": "https://localhost:8080/",
          "height": 284
        },
        "outputId": "d7e4db00-a3ff-4748-df7c-b5088e22eff3"
      },
      "source": [
        "# Outlier detection\n",
        "# Utilib_taken_sum and Utilib_returned_sum\n",
        "\n",
        "sns.boxplot(data=autolib_df[['Utilib_taken_sum','Utilib_returned_sum']])"
      ],
      "execution_count": 12,
      "outputs": [
        {
          "output_type": "execute_result",
          "data": {
            "text/plain": [
              "<matplotlib.axes._subplots.AxesSubplot at 0x7fa9fc1ea810>"
            ]
          },
          "metadata": {
            "tags": []
          },
          "execution_count": 12
        },
        {
          "output_type": "display_data",
          "data": {
            "image/png": "[encoded data removed]",
            "text/plain": [
              "<Figure size 432x288 with 1 Axes>"
            ]
          },
          "metadata": {
            "tags": [],
            "needs_background": "light"
          }
        }
      ]
    },
    {
      "cell_type": "markdown",
      "metadata": {
        "id": "RvQjXcTp_jaB"
      },
      "source": [
        "The Utilib cars dataset is skewed towards the left, with a large number of entries being below 10."
      ]
    },
    {
      "cell_type": "code",
      "metadata": {
        "id": "-WDlcrZF_jaB",
        "colab": {
          "base_uri": "https://localhost:8080/",
          "height": 283
        },
        "outputId": "35f6b8f0-5374-4f91-be15-b23878f0a11b"
      },
      "source": [
        "# Outlier detection\n",
        "# Utilib_14_taken_sum and Utilib_14_returned_sum \n",
        "\n",
        "sns.boxplot(data=autolib_df[['Utilib_14_taken_sum','Utilib_14_returned_sum']])"
      ],
      "execution_count": 13,
      "outputs": [
        {
          "output_type": "execute_result",
          "data": {
            "text/plain": [
              "<matplotlib.axes._subplots.AxesSubplot at 0x7fa9fbd37f10>"
            ]
          },
          "metadata": {
            "tags": []
          },
          "execution_count": 13
        },
        {
          "output_type": "display_data",
          "data": {
            "image/png": "[encoded data removed]",
            "text/plain": [
              "<Figure size 432x288 with 1 Axes>"
            ]
          },
          "metadata": {
            "tags": [],
            "needs_background": "light"
          }
        }
      ]
    },
    {
      "cell_type": "markdown",
      "metadata": {
        "id": "g-guUNcH_jaC"
      },
      "source": [
        "The Utilib_14 cars dataset is skewed towards the right, with a large number of entries being below 20."
      ]
    },
    {
      "cell_type": "code",
      "metadata": {
        "colab": {
          "base_uri": "https://localhost:8080/"
        },
        "id": "d4FcVBQ9aobY",
        "outputId": "2b7690c1-24c0-4dab-ad18-7ce4ceea9fa0"
      },
      "source": [
        "Q1 = autolib_df.quantile(0.25)\n",
        "Q3 = autolib_df.quantile(0.75)\n",
        "\n",
        "IQR = Q3 - Q1\n",
        "IQR"
      ],
      "execution_count": 14,
      "outputs": [
        {
          "output_type": "execute_result",
          "data": {
            "text/plain": [
              "Postal code               2070.0\n",
              "dayOfWeek                    4.0\n",
              "BlueCars_taken_sum         115.0\n",
              "BlueCars_returned_sum      115.0\n",
              "Utilib_taken_sum             4.0\n",
              "Utilib_returned_sum          4.0\n",
              "Utilib_14_taken_sum          9.0\n",
              "Utilib_14_returned_sum       9.0\n",
              "Slots_freed_sum              5.0\n",
              "Slots_taken_sum              5.0\n",
              "dtype: float64"
            ]
          },
          "metadata": {
            "tags": []
          },
          "execution_count": 14
        }
      ]
    },
    {
      "cell_type": "markdown",
      "metadata": {
        "id": "RCzNKVqQ_jaC"
      },
      "source": [
        "## 5. Exploratory Analysis"
      ]
    },
    {
      "cell_type": "markdown",
      "metadata": {
        "id": "InrgA2D21MCl"
      },
      "source": [
        "### 5.1 Univariate Analysis"
      ]
    },
    {
      "cell_type": "code",
      "metadata": {
        "colab": {
          "base_uri": "https://localhost:8080/"
        },
        "id": "8IBI-5-wRZvi",
        "outputId": "8f181e53-cfc1-4ae2-db5e-45e4ed12f4af"
      },
      "source": [
        "#Information about the dataset\n",
        "autolib_df.info()"
      ],
      "execution_count": 15,
      "outputs": [
        {
          "output_type": "stream",
          "text": [
            "<class 'pandas.core.frame.DataFrame'>\n",
            "RangeIndex: 16085 entries, 0 to 16084\n",
            "Data columns (total 12 columns):\n",
            " #   Column                  Non-Null Count  Dtype \n",
            "---  ------                  --------------  ----- \n",
            " 0   Postal code             16085 non-null  int64 \n",
            " 1   date                    16085 non-null  object\n",
            " 2   dayOfWeek               16085 non-null  int64 \n",
            " 3   day_type                16085 non-null  object\n",
            " 4   BlueCars_taken_sum      16085 non-null  int64 \n",
            " 5   BlueCars_returned_sum   16085 non-null  int64 \n",
            " 6   Utilib_taken_sum        16085 non-null  int64 \n",
            " 7   Utilib_returned_sum     16085 non-null  int64 \n",
            " 8   Utilib_14_taken_sum     16085 non-null  int64 \n",
            " 9   Utilib_14_returned_sum  16085 non-null  int64 \n",
            " 10  Slots_freed_sum         16085 non-null  int64 \n",
            " 11  Slots_taken_sum         16085 non-null  int64 \n",
            "dtypes: int64(10), object(2)\n",
            "memory usage: 1.5+ MB\n"
          ],
          "name": "stdout"
        }
      ]
    },
    {
      "cell_type": "code",
      "metadata": {
        "colab": {
          "base_uri": "https://localhost:8080/"
        },
        "id": "hVx9FVH0_ucg",
        "outputId": "ff4b9931-6c6d-466d-d0f4-b2ce0be693de"
      },
      "source": [
        "# Finding the mean of the dataset\n",
        "\n",
        "autolib_df[{'BlueCars_taken_sum', 'BlueCars_returned_sum', 'Utilib_taken_sum', 'Utilib_returned_sum', 'Utilib_14_taken_sum', 'Utilib_14_returned_sum', 'Slots_freed_sum', 'Slots_taken_sum'}].mean()"
      ],
      "execution_count": 16,
      "outputs": [
        {
          "output_type": "execute_result",
          "data": {
            "text/plain": [
              "Utilib_14_taken_sum         8.600560\n",
              "BlueCars_taken_sum        125.926951\n",
              "Utilib_taken_sum            3.698290\n",
              "Slots_freed_sum            22.629033\n",
              "BlueCars_returned_sum     125.912714\n",
              "Slots_taken_sum            22.629282\n",
              "Utilib_14_returned_sum      8.599192\n",
              "Utilib_returned_sum         3.699099\n",
              "dtype: float64"
            ]
          },
          "metadata": {
            "tags": []
          },
          "execution_count": 16
        }
      ]
    },
    {
      "cell_type": "code",
      "metadata": {
        "id": "xWQXxp8K_jaC",
        "colab": {
          "base_uri": "https://localhost:8080/",
          "height": 312
        },
        "outputId": "d25b8019-8f2c-48f2-bac2-6b843e2aac15"
      },
      "source": [
        "num_bins = 4\n",
        "\n",
        "plt.hist(autolib_df['BlueCars_taken_sum'], num_bins, histtype=\"bar\", rwidth=2, color='gold')\n",
        "# Labelling our x axis\n",
        "plt.xlabel(\"Blue Cars taken\")\n",
        "\n",
        "# Labelling our y axis\n",
        "plt.ylabel(\"No. of cars\")\n",
        "\n",
        "# Giving a title to our Bar chart\n",
        "plt.title(\"Distribution of Blue Cars taken\")"
      ],
      "execution_count": 17,
      "outputs": [
        {
          "output_type": "execute_result",
          "data": {
            "text/plain": [
              "Text(0.5, 1.0, 'Distribution of Blue Cars taken')"
            ]
          },
          "metadata": {
            "tags": []
          },
          "execution_count": 17
        },
        {
          "output_type": "display_data",
          "data": {
            "image/png": "[encoded data removed]",
            "text/plain": [
              "<Figure size 432x288 with 1 Axes>"
            ]
          },
          "metadata": {
            "tags": [],
            "needs_background": "light"
          }
        }
      ]
    },
    {
      "cell_type": "markdown",
      "metadata": {
        "id": "1bhMEj-W_jaD"
      },
      "source": [
        "The blue cars dataset is skewed to the right with most of the data lying between 0 and 300."
      ]
    },
    {
      "cell_type": "code",
      "metadata": {
        "id": "iFlHCKRD_jaD",
        "colab": {
          "base_uri": "https://localhost:8080/",
          "height": 312
        },
        "outputId": "93ededba-60b9-4a21-81b0-c2771ae85d7c"
      },
      "source": [
        "num_bins = 4\n",
        "\n",
        "plt.hist(autolib_df['Utilib_taken_sum'], num_bins, histtype=\"bar\", rwidth=2, color='blue')\n",
        "#plt.hist(autolib_df['BlueCars_returned_sum'], num_bins, histtype=\"bar\", rwidth=2, color='black')\n",
        "# Labelling our x axis\n",
        "plt.xlabel(\"Utilib Cars taken\")\n",
        "\n",
        "# Labelling our y axis\n",
        "plt.ylabel(\"No. of cars\")\n",
        "\n",
        "# Giving a title to our Bar chart\n",
        "plt.title(\"Distribution of Utilib Cars taken\")"
      ],
      "execution_count": 18,
      "outputs": [
        {
          "output_type": "execute_result",
          "data": {
            "text/plain": [
              "Text(0.5, 1.0, 'Distribution of Utilib Cars taken')"
            ]
          },
          "metadata": {
            "tags": []
          },
          "execution_count": 18
        },
        {
          "output_type": "display_data",
          "data": {
            "image/png": "[encoded data removed]",
            "text/plain": [
              "<Figure size 432x288 with 1 Axes>"
            ]
          },
          "metadata": {
            "tags": [],
            "needs_background": "light"
          }
        }
      ]
    },
    {
      "cell_type": "markdown",
      "metadata": {
        "id": "QOILhErY_jaD"
      },
      "source": [
        "The Utilib cars dataset is skewed to the right with most of the data lying between 0 and 10."
      ]
    },
    {
      "cell_type": "code",
      "metadata": {
        "id": "rPq87Tcr_jaE",
        "colab": {
          "base_uri": "https://localhost:8080/",
          "height": 313
        },
        "outputId": "ddd5f98e-83ef-469a-a96d-fd38724aa279"
      },
      "source": [
        "num_bins = 4\n",
        "\n",
        "plt.hist(autolib_df['Utilib_14_taken_sum'], num_bins, histtype=\"bar\", rwidth=2, color='fuchsia')\n",
        "#plt.hist(autolib_df['BlueCars_returned_sum'], num_bins, histtype=\"bar\", rwidth=2, color='black')\n",
        "# Labelling our x axis\n",
        "plt.xlabel(\"Utilib_14 Cars taken\")\n",
        "\n",
        "# Labelling our y axis\n",
        "plt.ylabel(\"No. of cars\")\n",
        "\n",
        "# Giving a title to our Bar chart\n",
        "plt.title(\"Distribution of Utilib_14 Cars taken\")"
      ],
      "execution_count": 19,
      "outputs": [
        {
          "output_type": "execute_result",
          "data": {
            "text/plain": [
              "Text(0.5, 1.0, 'Distribution of Utilib_14 Cars taken')"
            ]
          },
          "metadata": {
            "tags": []
          },
          "execution_count": 19
        },
        {
          "output_type": "display_data",
          "data": {
            "image/png": "[encoded data removed]",
            "text/plain": [
              "<Figure size 432x288 with 1 Axes>"
            ]
          },
          "metadata": {
            "tags": [],
            "needs_background": "light"
          }
        }
      ]
    },
    {
      "cell_type": "markdown",
      "metadata": {
        "id": "pWoRjbnS_jaE"
      },
      "source": [
        "The Utilib cars dataset is skewed to the right with most of the data lying between 0 and 20."
      ]
    },
    {
      "cell_type": "code",
      "metadata": {
        "id": "BvtUGZ5E_jaF",
        "colab": {
          "base_uri": "https://localhost:8080/",
          "height": 312
        },
        "outputId": "47e7ef40-dc2f-4914-db80-b62929409f71"
      },
      "source": [
        "num_bins = 4\n",
        "\n",
        "plt.hist(autolib_df['BlueCars_returned_sum'], num_bins, histtype=\"bar\", rwidth=2, color='turquoise')\n",
        "#plt.hist(autolib_df['BlueCars_returned_sum'], num_bins, histtype=\"bar\", rwidth=2, color='black')\n",
        "# Labelling our x axis\n",
        "plt.xlabel(\"Blue Cars returned\")\n",
        "\n",
        "# Labelling our y axis\n",
        "plt.ylabel(\"No. of cars\")\n",
        "\n",
        "# Giving a title to our Bar chart\n",
        "plt.title(\"Distribution of Blue Cars returned\")"
      ],
      "execution_count": 20,
      "outputs": [
        {
          "output_type": "execute_result",
          "data": {
            "text/plain": [
              "Text(0.5, 1.0, 'Distribution of Blue Cars returned')"
            ]
          },
          "metadata": {
            "tags": []
          },
          "execution_count": 20
        },
        {
          "output_type": "display_data",
          "data": {
            "image/png": "[encoded data removed]",
            "text/plain": [
              "<Figure size 432x288 with 1 Axes>"
            ]
          },
          "metadata": {
            "tags": [],
            "needs_background": "light"
          }
        }
      ]
    },
    {
      "cell_type": "code",
      "metadata": {
        "id": "QMWOBge8_jaF",
        "colab": {
          "base_uri": "https://localhost:8080/",
          "height": 312
        },
        "outputId": "b9cc6f58-ca58-4719-8ed7-8b29f3b93f5c"
      },
      "source": [
        "num_bins = 4\n",
        "\n",
        "plt.hist(autolib_df['Utilib_returned_sum'], num_bins, histtype=\"bar\", rwidth=2, color='purple')\n",
        "# Labelling our x axis\n",
        "plt.xlabel(\"Utilib Cars returned\")\n",
        "\n",
        "# Labelling our y axis\n",
        "plt.ylabel(\"No. of cars\")\n",
        "\n",
        "# Giving a title to our Bar chart\n",
        "plt.title(\"Distribution of Utilib Cars returned\")"
      ],
      "execution_count": 21,
      "outputs": [
        {
          "output_type": "execute_result",
          "data": {
            "text/plain": [
              "Text(0.5, 1.0, 'Distribution of Utilib Cars returned')"
            ]
          },
          "metadata": {
            "tags": []
          },
          "execution_count": 21
        },
        {
          "output_type": "display_data",
          "data": {
            "image/png": "[encoded data removed]",
            "text/plain": [
              "<Figure size 432x288 with 1 Axes>"
            ]
          },
          "metadata": {
            "tags": [],
            "needs_background": "light"
          }
        }
      ]
    },
    {
      "cell_type": "code",
      "metadata": {
        "id": "c_LDa6fo_jaG",
        "colab": {
          "base_uri": "https://localhost:8080/",
          "height": 313
        },
        "outputId": "d7209157-3724-43bc-91d2-40ff6effe38b"
      },
      "source": [
        "num_bins = 4\n",
        "\n",
        "plt.hist(autolib_df['Utilib_14_returned_sum'], num_bins, histtype=\"bar\", rwidth=1, color='Teal')\n",
        "# Labelling our x axis\n",
        "plt.xlabel(\"Utilib_14 Cars returned\")\n",
        "\n",
        "# Labelling our y axis\n",
        "plt.ylabel(\"No. of cars\")\n",
        "\n",
        "# Giving a title to our Bar chart\n",
        "plt.title(\"Distribution of Utilib_14 Cars returned\")"
      ],
      "execution_count": 22,
      "outputs": [
        {
          "output_type": "execute_result",
          "data": {
            "text/plain": [
              "Text(0.5, 1.0, 'Distribution of Utilib_14 Cars returned')"
            ]
          },
          "metadata": {
            "tags": []
          },
          "execution_count": 22
        },
        {
          "output_type": "display_data",
          "data": {
            "image/png": "[encoded data removed]",
            "text/plain": [
              "<Figure size 432x288 with 1 Axes>"
            ]
          },
          "metadata": {
            "tags": [],
            "needs_background": "light"
          }
        }
      ]
    },
    {
      "cell_type": "code",
      "metadata": {
        "colab": {
          "base_uri": "https://localhost:8080/",
          "height": 234
        },
        "id": "vHqs7j5VU70n",
        "outputId": "8da4e973-f99d-461a-bb83-f0ce5a642de3"
      },
      "source": [
        "# Removing the outliers\n",
        "autolib_df1 = autolib_df[~((autolib_df < (Q1 - 1.5 * IQR)) |(autolib_df > (Q3 + 1.5 * IQR))).any(axis=1)]\n",
        "autolib_df1.head()"
      ],
      "execution_count": 23,
      "outputs": [
        {
          "output_type": "execute_result",
          "data": {
            "text/html": [
              "<div>\n",
              "<style scoped>\n",
              "    .dataframe tbody tr th:only-of-type {\n",
              "        vertical-align: middle;\n",
              "    }\n",
              "\n",
              "    .dataframe tbody tr th {\n",
              "        vertical-align: top;\n",
              "    }\n",
              "\n",
              "    .dataframe thead th {\n",
              "        text-align: right;\n",
              "    }\n",
              "</style>\n",
              "<table border=\"1\" class=\"dataframe\">\n",
              "  <thead>\n",
              "    <tr style=\"text-align: right;\">\n",
              "      <th></th>\n",
              "      <th>Postal code</th>\n",
              "      <th>date</th>\n",
              "      <th>dayOfWeek</th>\n",
              "      <th>day_type</th>\n",
              "      <th>BlueCars_taken_sum</th>\n",
              "      <th>BlueCars_returned_sum</th>\n",
              "      <th>Utilib_taken_sum</th>\n",
              "      <th>Utilib_returned_sum</th>\n",
              "      <th>Utilib_14_taken_sum</th>\n",
              "      <th>Utilib_14_returned_sum</th>\n",
              "      <th>Slots_freed_sum</th>\n",
              "      <th>Slots_taken_sum</th>\n",
              "    </tr>\n",
              "  </thead>\n",
              "  <tbody>\n",
              "    <tr>\n",
              "      <th>3899</th>\n",
              "      <td>91330</td>\n",
              "      <td>1/1/2018</td>\n",
              "      <td>0</td>\n",
              "      <td>weekday</td>\n",
              "      <td>19</td>\n",
              "      <td>9</td>\n",
              "      <td>0</td>\n",
              "      <td>0</td>\n",
              "      <td>0</td>\n",
              "      <td>0</td>\n",
              "      <td>4</td>\n",
              "      <td>2</td>\n",
              "    </tr>\n",
              "    <tr>\n",
              "      <th>3900</th>\n",
              "      <td>91330</td>\n",
              "      <td>1/2/2018</td>\n",
              "      <td>1</td>\n",
              "      <td>weekday</td>\n",
              "      <td>10</td>\n",
              "      <td>10</td>\n",
              "      <td>0</td>\n",
              "      <td>0</td>\n",
              "      <td>0</td>\n",
              "      <td>0</td>\n",
              "      <td>0</td>\n",
              "      <td>0</td>\n",
              "    </tr>\n",
              "    <tr>\n",
              "      <th>3901</th>\n",
              "      <td>91330</td>\n",
              "      <td>1/3/2018</td>\n",
              "      <td>2</td>\n",
              "      <td>weekday</td>\n",
              "      <td>11</td>\n",
              "      <td>13</td>\n",
              "      <td>0</td>\n",
              "      <td>0</td>\n",
              "      <td>0</td>\n",
              "      <td>0</td>\n",
              "      <td>1</td>\n",
              "      <td>1</td>\n",
              "    </tr>\n",
              "    <tr>\n",
              "      <th>3902</th>\n",
              "      <td>91330</td>\n",
              "      <td>1/4/2018</td>\n",
              "      <td>3</td>\n",
              "      <td>weekday</td>\n",
              "      <td>5</td>\n",
              "      <td>8</td>\n",
              "      <td>0</td>\n",
              "      <td>0</td>\n",
              "      <td>0</td>\n",
              "      <td>0</td>\n",
              "      <td>1</td>\n",
              "      <td>2</td>\n",
              "    </tr>\n",
              "    <tr>\n",
              "      <th>3903</th>\n",
              "      <td>91330</td>\n",
              "      <td>1/5/2018</td>\n",
              "      <td>4</td>\n",
              "      <td>weekday</td>\n",
              "      <td>10</td>\n",
              "      <td>6</td>\n",
              "      <td>0</td>\n",
              "      <td>0</td>\n",
              "      <td>0</td>\n",
              "      <td>0</td>\n",
              "      <td>1</td>\n",
              "      <td>1</td>\n",
              "    </tr>\n",
              "  </tbody>\n",
              "</table>\n",
              "</div>"
            ],
            "text/plain": [
              "      Postal code      date  ...  Slots_freed_sum Slots_taken_sum\n",
              "3899        91330  1/1/2018  ...                4               2\n",
              "3900        91330  1/2/2018  ...                0               0\n",
              "3901        91330  1/3/2018  ...                1               1\n",
              "3902        91330  1/4/2018  ...                1               2\n",
              "3903        91330  1/5/2018  ...                1               1\n",
              "\n",
              "[5 rows x 12 columns]"
            ]
          },
          "metadata": {
            "tags": []
          },
          "execution_count": 23
        }
      ]
    },
    {
      "cell_type": "markdown",
      "metadata": {
        "id": "12iCj0WunGyJ"
      },
      "source": [
        "**5.2 Bivariate analysis**"
      ]
    },
    {
      "cell_type": "code",
      "metadata": {
        "colab": {
          "base_uri": "https://localhost:8080/",
          "height": 443
        },
        "id": "KL3ohvk4nXeH",
        "outputId": "940a3037-c4a3-47d8-99ce-38137d04d6ff"
      },
      "source": [
        "fig, (ax1,ax2,ax3) = plt.subplots(1,3, figsize=(10, 7))\n",
        "fig.suptitle('')\n",
        "sns.scatterplot(x= autolib_df.BlueCars_taken_sum , y= autolib_df.BlueCars_returned_sum, ax=ax1)\n",
        "sns.scatterplot(x= autolib_df.Utilib_taken_sum, y= autolib_df.Utilib_returned_sum, ax=ax2)\n",
        "sns.scatterplot(x=autolib_df.Utilib_14_taken_sum , y= autolib_df.Utilib_14_returned_sum, ax=ax3)\n",
        "\n",
        "plt.show()"
      ],
      "execution_count": 58,
      "outputs": [
        {
          "output_type": "display_data",
          "data": {
            "image/png": "[encoded data removed]",
            "text/plain": [
              "<Figure size 720x504 with 3 Axes>"
            ]
          },
          "metadata": {
            "tags": [],
            "needs_background": "light"
          }
        }
      ]
    },
    {
      "cell_type": "markdown",
      "metadata": {
        "id": "18YrbfELL_yu"
      },
      "source": [
        "> There is a strong correlation within the pairs of the related data"
      ]
    },
    {
      "cell_type": "code",
      "metadata": {
        "colab": {
          "base_uri": "https://localhost:8080/"
        },
        "id": "tXFUMI6CnYCB",
        "outputId": "c3ab93c9-737a-4c2b-a688-80104720b5e1"
      },
      "source": [
        "# Finding a correlation between the dataset\n",
        "pearson_coeff = autolib_df[\"BlueCars_taken_sum\"].corr(autolib_df[\"BlueCars_returned_sum\"], method=\"pearson\") \n",
        "print('BlueCars', pearson_coeff)\n",
        "pearson_coeff = autolib_df['Utilib_taken_sum'].corr(autolib_df[\"Utilib_returned_sum\"], method=\"pearson\") \n",
        "print('Utilib_Corr', pearson_coeff)\n",
        "pearson_coeff = autolib_df[\"Utilib_14_taken_sum\"].corr(autolib_df[\"Utilib_14_returned_sum\"], method=\"pearson\") \n",
        "print('Utilib_14_Corr', pearson_coeff)"
      ],
      "execution_count": 59,
      "outputs": [
        {
          "output_type": "stream",
          "text": [
            "BlueCars 0.9986597051672196\n",
            "Utilib_Corr 0.9819819805363549\n",
            "Utilib_14_Corr 0.9920620707048168\n"
          ],
          "name": "stdout"
        }
      ]
    },
    {
      "cell_type": "markdown",
      "metadata": {
        "id": "0456EBb5jWBL"
      },
      "source": [
        "> There is a strong correlation between cars taken and cars returned."
      ]
    },
    {
      "cell_type": "code",
      "metadata": {
        "id": "hCcmE3BEnYsK"
      },
      "source": [
        ""
      ],
      "execution_count": null,
      "outputs": []
    },
    {
      "cell_type": "markdown",
      "metadata": {
        "id": "CGyjNxJO_jaG"
      },
      "source": [
        "### 6. Hypothesis Testing Computation"
      ]
    },
    {
      "cell_type": "markdown",
      "metadata": {
        "id": "5X09KuPo_jaG"
      },
      "source": [
        "#### 6.1 Sampling"
      ]
    },
    {
      "cell_type": "markdown",
      "metadata": {
        "id": "LTdsvLwD_Kyj"
      },
      "source": [
        "Before sampling we need to create columns for all the values we need for our tests which are:"
      ]
    },
    {
      "cell_type": "markdown",
      "metadata": {
        "id": "5l55ouHo_iYQ"
      },
      "source": [
        "**1. Total number of cars taken and cars returned**"
      ]
    },
    {
      "cell_type": "code",
      "metadata": {
        "id": "hFZqTKn18Ggl"
      },
      "source": [
        "autolib_df['total_vehicles_taken'] = autolib_df['BlueCars_taken_sum'] + autolib_df['Utilib_taken_sum'] + autolib_df['Utilib_14_taken_sum']\n",
        "\n",
        "autolib_df['total_vehicles_returned'] = autolib_df['BlueCars_returned_sum'] + autolib_df['Utilib_returned_sum'] + autolib_df['Utilib_14_returned_sum']"
      ],
      "execution_count": 24,
      "outputs": []
    },
    {
      "cell_type": "markdown",
      "metadata": {
        "id": "EZ7pIRTWAGUS"
      },
      "source": [
        "**2.Total number of Utilib and Utilib_14 cars**"
      ]
    },
    {
      "cell_type": "code",
      "metadata": {
        "id": "3TE4RB8uA2BA"
      },
      "source": [
        "autolib_df['total_Utilib_vehicles_taken'] =autolib_df['Utilib_taken_sum'] + autolib_df['Utilib_14_taken_sum']"
      ],
      "execution_count": 25,
      "outputs": []
    },
    {
      "cell_type": "code",
      "metadata": {
        "id": "Uxrhw1UP_jaH",
        "colab": {
          "base_uri": "https://localhost:8080/"
        },
        "outputId": "1eef5da3-04bb-47a3-b6a7-63c4d0ff8acd"
      },
      "source": [
        "# Using the random int generator to randomly select one of the days between 0 and 4\n",
        "random_number = np.random.randint(0, 4)\n",
        "random_number"
      ],
      "execution_count": 26,
      "outputs": [
        {
          "output_type": "execute_result",
          "data": {
            "text/plain": [
              "3"
            ]
          },
          "metadata": {
            "tags": []
          },
          "execution_count": 26
        }
      ]
    },
    {
      "cell_type": "code",
      "metadata": {
        "id": "pLK2TjOf_jaH",
        "colab": {
          "base_uri": "https://localhost:8080/"
        },
        "outputId": "4dce86d9-c809-48d7-db73-71fd152f61b9"
      },
      "source": [
        "sampled_autolib_df = autolib_df[autolib_df['dayOfWeek']== random_number]\n",
        "\n",
        "sampled_autolib_df.info()"
      ],
      "execution_count": 27,
      "outputs": [
        {
          "output_type": "stream",
          "text": [
            "<class 'pandas.core.frame.DataFrame'>\n",
            "Int64Index: 2268 entries, 3 to 16079\n",
            "Data columns (total 15 columns):\n",
            " #   Column                       Non-Null Count  Dtype \n",
            "---  ------                       --------------  ----- \n",
            " 0   Postal code                  2268 non-null   int64 \n",
            " 1   date                         2268 non-null   object\n",
            " 2   dayOfWeek                    2268 non-null   int64 \n",
            " 3   day_type                     2268 non-null   object\n",
            " 4   BlueCars_taken_sum           2268 non-null   int64 \n",
            " 5   BlueCars_returned_sum        2268 non-null   int64 \n",
            " 6   Utilib_taken_sum             2268 non-null   int64 \n",
            " 7   Utilib_returned_sum          2268 non-null   int64 \n",
            " 8   Utilib_14_taken_sum          2268 non-null   int64 \n",
            " 9   Utilib_14_returned_sum       2268 non-null   int64 \n",
            " 10  Slots_freed_sum              2268 non-null   int64 \n",
            " 11  Slots_taken_sum              2268 non-null   int64 \n",
            " 12  total_vehicles_taken         2268 non-null   int64 \n",
            " 13  total_vehicles_returned      2268 non-null   int64 \n",
            " 14  total_Utilib_vehicles_taken  2268 non-null   int64 \n",
            "dtypes: int64(13), object(2)\n",
            "memory usage: 283.5+ KB\n"
          ],
          "name": "stdout"
        }
      ]
    },
    {
      "cell_type": "markdown",
      "metadata": {
        "id": "qZJaJivA_jaH"
      },
      "source": [
        "#### 6.2 Hypothesis test 1: \n",
        ">On a given weekday, the average number of vehicles (BlueCars, Utilib and Utilib_14) taken is more than the average number of vehicles being returned.\n",
        "The confidence level for this test will be 0.95 hence an alpha value of 0.05.   \n",
        "Ho:Average vehicles taken<= Average vehicles returned     \n",
        "                       Ha:Average vehicles taken > Average vehicles returned"
      ]
    },
    {
      "cell_type": "code",
      "metadata": {
        "id": "jvDs_me6_jaI",
        "colab": {
          "base_uri": "https://localhost:8080/"
        },
        "outputId": "5af562aa-7203-4d00-fb20-8a8f5bb677a7"
      },
      "source": [
        "# Calculate the Z score\n",
        "\n",
        "## Total population mean and std deviation\n",
        "total_population_mean = autolib_df['total_vehicles_taken'].mean()\n",
        "\n",
        "total_popultation_std_dev = autolib_df['total_vehicles_taken'].std()\n",
        "\n",
        "sample_population_mean = sampled_autolib_df['total_vehicles_returned'].mean()\n",
        "\n",
        "total_sampled_population = sampled_autolib_df['total_vehicles_returned'].count()\n",
        "\n",
        "## Compute the z score\n",
        "zscore_hypothesis_1 = (sample_population_mean - total_population_mean) / total_popultation_std_dev\n",
        "\n",
        "zscore_hypothesis_1"
      ],
      "execution_count": 56,
      "outputs": [
        {
          "output_type": "execute_result",
          "data": {
            "text/plain": [
              "-0.05397555479832159"
            ]
          },
          "metadata": {
            "tags": []
          },
          "execution_count": 56
        }
      ]
    },
    {
      "cell_type": "code",
      "metadata": {
        "id": "t09SaLFF_jaJ",
        "colab": {
          "base_uri": "https://localhost:8080/"
        },
        "outputId": "fa3bec95-a080-4afa-ad9b-dcdc6121515a"
      },
      "source": [
        "# Calculating the P value\n",
        "\n",
        "prob_hypothesis_1 = 1 - stats.norm.cdf(zscore_hypothesis_1)\n",
        "prob_hypothesis_1"
      ],
      "execution_count": 57,
      "outputs": [
        {
          "output_type": "execute_result",
          "data": {
            "text/plain": [
              "0.5215226798558439"
            ]
          },
          "metadata": {
            "tags": []
          },
          "execution_count": 57
        }
      ]
    },
    {
      "cell_type": "markdown",
      "metadata": {
        "id": "ZvJ1Eikx_jaJ"
      },
      "source": [
        "The p value of 0.52 is greater than the alpha value of 0.05. For this reason, the null hypothesis is accepted.\n",
        "The average number of vehicles (BlueCars, Utilib and Utilib_14) taken is less or equal to the average number of vehicles being returned."
      ]
    },
    {
      "cell_type": "markdown",
      "metadata": {
        "id": "LmyOXw41_jaJ"
      },
      "source": [
        "#### 6.3 Hypothesis test 2: \n",
        ">On a given weekday, the number of BlueCars taken is more than the total combined number of Utilib and Utilib_14 cars.\n",
        "The confidence level for this test will be 0.95 hence an alpha value of 0.05."
      ]
    },
    {
      "cell_type": "code",
      "metadata": {
        "id": "Qwd6pyio_jaJ"
      },
      "source": [
        "# Average number of all BluCars taken during the period of our review\n",
        "average_of_BlueCars = autolib_df['BlueCars_taken_sum'].mean()\n",
        "average_of_Utilib_vehicles=autolib_df['total_Utilib_vehicles_taken'].mean()\n",
        "# Average of a sample of Utilib and Utilib_14 cars taken on a random day\n",
        "sampled_Bluecars_mean=sampled_autolib_df['BlueCars_taken_sum'].mean()\n",
        "sampled_Utilib_vehicles_mean = sampled_autolib_df['total_Utilib_vehicles_taken'].mean()\n",
        "\n",
        "# Standard deviation of all BluCars taken during the period of our review\n",
        "std_dev_of_BlueCars = autolib_df['BlueCars_taken_sum'].std()\n",
        "std_dev_of_Utilib_vehicles = autolib_df['total_Utilib_vehicles_taken'].std()"
      ],
      "execution_count": 46,
      "outputs": []
    },
    {
      "cell_type": "code",
      "metadata": {
        "id": "6iXrG0Aa_jaK",
        "colab": {
          "base_uri": "https://localhost:8080/"
        },
        "outputId": "8eff8071-36b2-4263-d4cb-57fc981a4d0c"
      },
      "source": [
        "## Compute the z score\n",
        "zstat = (sampled_Utilib_vehicles_mean-average_of_BlueCars)/std_dev_of_BlueCars\n",
        "zstat"
      ],
      "execution_count": 55,
      "outputs": [
        {
          "output_type": "execute_result",
          "data": {
            "text/plain": [
              "-0.6180237330304179"
            ]
          },
          "metadata": {
            "tags": []
          },
          "execution_count": 55
        }
      ]
    },
    {
      "cell_type": "code",
      "metadata": {
        "id": "QsqNgB50_jaK",
        "colab": {
          "base_uri": "https://localhost:8080/"
        },
        "outputId": "2e587e5f-3318-4137-aa41-f7d5d2090a6f"
      },
      "source": [
        "# Calculating the P value\n",
        "\n",
        "prob_hypothesis_2 = 1 - stats.norm.cdf(zstat)\n",
        "prob_hypothesis_2"
      ],
      "execution_count": 54,
      "outputs": [
        {
          "output_type": "execute_result",
          "data": {
            "text/plain": [
              "0.7317201528454087"
            ]
          },
          "metadata": {
            "tags": []
          },
          "execution_count": 54
        }
      ]
    },
    {
      "cell_type": "markdown",
      "metadata": {
        "id": "3_lyc2uQ_jaL"
      },
      "source": [
        "The p value of 0.4998 is greater than the alpha value of 0.05. For this reason, the null hypothesis is accepted, that the number of BlueCars taken is less than or equal to the total combined number of Utilib and Utilib_14 cars."
      ]
    },
    {
      "cell_type": "markdown",
      "metadata": {
        "id": "90E_fn8z_jaL"
      },
      "source": [
        "#### 6.3 Hypothesis test 3: \n",
        ">The number of vehicles taken in postal code 75015 is equal to the number of vehicles taken in postal code 75017.\n",
        "The confidence level for this test will be 0.95 hence an alpha value of 0.05."
      ]
    },
    {
      "cell_type": "code",
      "metadata": {
        "id": "BVyznkJD_jaL"
      },
      "source": [
        "# Average number of vehicles taken in postal code 75015 and 75017\n",
        "vehicles_in_75015 =autolib_df[autolib_df['Postal code']== 75015]\n",
        "vehicles_in_75015_avg = vehicles_in_75015['total_vehicles_taken'].mean()\n",
        "vehicles_in_75017 =autolib_df[autolib_df['Postal code']== 75017]\n",
        "vehicles_in_75017_avg = vehicles_in_75017['total_vehicles_taken'].mean()\n",
        "\n",
        "\n",
        "# Average sample of number of vehicles taken in postal code 75017\n",
        "sample_vehicles_in_75015 = sampled_autolib_df[sampled_autolib_df['Postal code']== 75015]\n",
        "sample_vehicles_in_75015_avg = sample_vehicles_in_75015['total_vehicles_taken'].mean()\n",
        "sample_vehicles_in_75017 = sampled_autolib_df[sampled_autolib_df['Postal code']== 75017]\n",
        "sample_vehicles_in_75017_avg = sample_vehicles_in_75017['total_vehicles_taken'].mean()\n",
        "\n",
        "# Standard deviation of vehicles taken in postal code 75015\n",
        "vehicles_in_75015_std_dev= vehicles_in_75015['total_vehicles_taken'].std() \n",
        "vehicles_in_75017_std_dev = vehicles_in_75017['total_vehicles_taken'].std() "
      ],
      "execution_count": 38,
      "outputs": []
    },
    {
      "cell_type": "code",
      "metadata": {
        "id": "ptM4Hh9C_jaM",
        "colab": {
          "base_uri": "https://localhost:8080/"
        },
        "outputId": "7ca4f227-d42e-4cc6-e88d-1516b0205898"
      },
      "source": [
        "## Compute the z score\n",
        "zstat = (sample_vehicles_in_75017_avg-vehicles_in_75015_avg)/vehicles_in_75015_std_dev\n",
        "zstat"
      ],
      "execution_count": 50,
      "outputs": [
        {
          "output_type": "execute_result",
          "data": {
            "text/plain": [
              "-1.051098226687255"
            ]
          },
          "metadata": {
            "tags": []
          },
          "execution_count": 50
        }
      ]
    },
    {
      "cell_type": "code",
      "metadata": {
        "id": "PCJVMtCe_jaM",
        "colab": {
          "base_uri": "https://localhost:8080/"
        },
        "outputId": "7d4a6a0f-df4f-4cfb-abda-2b02903e5a2b"
      },
      "source": [
        "# Calculating the P value\n",
        "\n",
        "prob_hypothesis_3 = 1 - stats.norm.cdf(zstat)\n",
        "prob_hypothesis_3"
      ],
      "execution_count": 51,
      "outputs": [
        {
          "output_type": "execute_result",
          "data": {
            "text/plain": [
              "0.853393260768986"
            ]
          },
          "metadata": {
            "tags": []
          },
          "execution_count": 51
        }
      ]
    },
    {
      "cell_type": "markdown",
      "metadata": {
        "id": "6XkQzsIn_jaM"
      },
      "source": [
        "The p value of 0.85 is greater than the alpha value of 0.05. For this reason, the null hypothesis is accepted, that the number of vehicles taken in postal code 75015 is equal to the number of vehicles taken in postal code 75017."
      ]
    }
  ]
}